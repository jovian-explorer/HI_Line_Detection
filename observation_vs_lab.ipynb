{
 "cells": [
  {
   "cell_type": "markdown",
   "metadata": {},
   "source": [
    "##### Importing Libraries"
   ]
  },
  {
   "cell_type": "code",
   "execution_count": 18,
   "metadata": {},
   "outputs": [],
   "source": [
    "#importing libraries required\n",
    "#-----------------------------------------------------------------------------------------------------------------\n",
    "from __future__ import print_function, division\n",
    "import pandas as pd\n",
    "import numpy as np\n",
    "import plotly.express as px\n",
    "import matplotlib.pyplot as plt\n",
    "import scipy.interpolate as interp\n",
    "import argparse\n",
    "import copy\n",
    "import datetime\n",
    "from PyAstronomy import pyasl\n",
    "import math\n",
    "from matplotlib.gridspec import GridSpec\n",
    "global low, up\n",
    "from astropy.io import fits as f\n",
    "from astropy.table import Table as t\n",
    "from astropy.utils.data import download_file\n",
    "import matplotlib.pyplot as plt\n",
    "from astropy.visualization import astropy_mpl_style\n",
    "from mpl_toolkits import mplot3d\n",
    "from scipy.optimize import curve_fit\n",
    "import scipy.optimize as so\n",
    "import warnings\n",
    "warnings.filterwarnings(\"ignore\")\n",
    "#-----------------------------------------------------------------------------------------------------------------\n",
    "#RA and Dec\n",
    "#\"RA- 279.11249  Dec- -8.22694\"\n",
    "RA= \"$18h36m$\" \n",
    "Dec= \"-8.22694$^{\\circ}$\"\n",
    "HI = 1420.04#*(10**6)\n",
    "c = 299792.458 #km/s                         #speed of light"
   ]
  },
  {
   "cell_type": "markdown",
   "metadata": {},
   "source": [
    "##### Radial Velocity Correction"
   ]
  },
  {
   "cell_type": "code",
   "execution_count": 19,
   "metadata": {},
   "outputs": [
    {
     "name": "stdout",
     "output_type": "stream",
     "text": [
      "\n",
      "----- HELCORR.PRO - DEBUG INFO - START ----\n",
      "(obs_long (East positive),obs_lat,obs_alt) Observatory coordinates [deg,m]:  75.857727 22.719568 554\n",
      "(ra,dec) Object coordinates (for epoch 2000.0) [deg]:  279.03270833333335 -8.325055555555556\n",
      "(ra,dec) Object coordinates (precessed to epoch 2022.746119) [deg]:  279.34242926875896 -8.304836377641319\n",
      "(ut) Universal time (middle of exposure) [hrs]:  20.828611113131046\n",
      "(jd) Julian date (middle of exposure) (JD):  2459821.3678587964\n",
      "(hjd) Heliocentric Julian date (middle of exposure) (HJD):  2459821.37096033\n",
      "(gmst) Greenwich mean sidereal time [hrs]:  19.364665826655255\n",
      "(lmst) Local mean sidereal time [hrs]:  0.4218476266552216\n",
      "(dlat) Latitude correction [deg]:  -492.42182092923696\n",
      "(lat) Geocentric latitude of observer [deg]:  22.582784160852988\n",
      "(r) Distance of observer from center of earth [m]:  6375582.819588338\n",
      "(v) Rotational velocity of earth at the position of the observer [km/s]:  0.46491488566839945\n",
      "(vdiurnal) Projected earth rotation and earth-moon revolution [km/s]:  -0.4241785121215353\n",
      "(vbar) Barycentric velocity [km/s]:  -24.099737486606614\n",
      "(vhel) Heliocentric velocity [km/s]:  -24.114642724423813\n",
      "(corr) Vdiurnal+vbar [km/s]:  -24.52391599872815\n",
      "----- HELCORR.PRO - DEBUG INFO - END -----\n",
      "\n",
      "Barycentric correction [km/s]:  -24.52391599872815\n",
      "Heliocentric Julian day:  2459821.37096033\n",
      "LSR correction [km/s]:  8.368282262915784\n",
      "Positive value means receding (redshift) source, negative value means approaching (blueshift) source\n"
     ]
    }
   ],
   "source": [
    "########################################################################################################################\n",
    "#--------------------------------------------radial_velocity_correction------------------------------------------------ \n",
    "# Coordinates of telescope\n",
    "longitude = 75.857727\n",
    "latitude = 22.719568\n",
    "altitude = 554\n",
    "\n",
    "# Coordinates of source (RA2000, DEC2000) RA_hr RA_min RA_sec DEC_deg DEC_min DEC_sec.\n",
    "# Note that DEC must be signed + or -.\n",
    "hd1 = \"18 36 07.85 -08 19 30.20\"  #scutum\n",
    "hd2 = \"17 45 40 -29 0 28\"         #Sagittarius A\n",
    "obs_ra_2000, obs_dec_2000 = pyasl.coordsSexaToDeg(hd1)\n",
    "\n",
    "# Time of observation converted to Julian Date\n",
    "dt1 = datetime.datetime(2022, 8, 29, 20, 49, 43)\n",
    "jd = pyasl.jdcnv(dt1)\n",
    "\n",
    "# Calculate barycentric correction (debug=True show\n",
    "# various intermediate results)\n",
    "corr, hjd = pyasl.helcorr(longitude, latitude, altitude, obs_ra_2000, obs_dec_2000, jd, debug=True)\n",
    "\n",
    "print(\"Barycentric correction [km/s]: \", corr)\n",
    "print(\"Heliocentric Julian day: \", hjd)\n",
    "\n",
    "# Calculate LSR correction\n",
    "v_sun = 20.5 # peculiar velocity (km/s) of sun w.r.t. LSR (The Solar Apex. Nature 162, 920 (1948). https://doi.org/10.1038/162920a0)\n",
    "# solar apex\n",
    "sun_ra = math.radians(270.2)\n",
    "sun_dec = math.radians(28.7)\n",
    "\n",
    "obs_dec = math.radians(obs_dec_2000)\n",
    "obs_ra = math.radians(obs_ra_2000)\n",
    "\n",
    "# equation from https://icts-yebes.oan.es/reports/doc/IT-CDT-2014-10.pdf\n",
    "a = math.cos(sun_dec) * math.cos(obs_dec)\n",
    "b = (math.cos(sun_ra) * math.cos(obs_ra)) + (math.sin(sun_ra) * math.sin(obs_ra))\n",
    "c = math.sin(sun_dec) * math.sin(obs_dec)\n",
    "v_rs = v_sun * ((a * b) + c)\n",
    "\n",
    "v_lsr = corr + v_rs\n",
    "print(\"LSR correction [km/s]: \", -v_lsr)\n",
    "print(\"Positive value means receding (redshift) source, negative value means approaching (blueshift) source\")\n",
    "########################################################################################################################"
   ]
  },
  {
   "cell_type": "markdown",
   "metadata": {},
   "source": [
    "##### PLotting from LAB"
   ]
  },
  {
   "cell_type": "code",
   "execution_count": 20,
   "metadata": {},
   "outputs": [
    {
     "data": {
      "image/png": "[encoded data removed]",
      "text/plain": [
       "<Figure size 432x288 with 1 Axes>"
      ]
     },
     "metadata": {
      "needs_background": "light"
     },
     "output_type": "display_data"
    }
   ],
   "source": [
    "######################################################v_LAB#############################################################\n",
    "#-----------------------------------------------------------------------------------------------------------------\n",
    "#importing data from my GitHub\n",
    "LAB = '/home/dev/Project_H1_line_detection/LAB_spectrum_SAG.csv'\n",
    "pd.set_option('display.max_columns', None) \n",
    "pd.set_option('display.max_rows', None)  \n",
    "pd.set_option('display.max_colwidth', None)\n",
    "SURVEY = pd.read_csv(LAB)\n",
    "#print(SURVEY)\n",
    "#-----------------------------------------------------------------------------------------------------------------\n",
    "# accessing the different columns of the csv SURVEY I made above\n",
    "SURVEY.columns = [\"v_lsr\",\"T_B\"]\n",
    "#storing values for each column into a separate arrays\n",
    "v_LAB = np.array(SURVEY.v_lsr)           # Values of velocity\n",
    "T_B= np.array(SURVEY.T_B)                # Values of temperature\n",
    "#-----------------------------------------------------------------------------------------------------------------\n",
    "mu = 1420*(1 - (v_LAB/c))                # Calculating frequency using Doppler formula\n",
    "y = np.mean(mu,axis=0)              \n",
    "#-----------------------------------------------------------------------------------------------------------------\n",
    "k = 1.38 *(10**(-23))                    #Boltzmann's Constant\n",
    "N = k*T_B                                #noise power spectral density\n",
    "#-----------------------------------------------------------------------------------------------------------------\n",
    "plt.plot(v_LAB,T_B,label= \"LAB\")\n",
    "# plt.xlim(1420,1420.5)\n",
    "plt.legend()\n",
    "plt.show()"
   ]
  },
  {
   "cell_type": "markdown",
   "metadata": {},
   "source": [
    "##### Plotting from self observations"
   ]
  },
  {
   "cell_type": "code",
   "execution_count": 21,
   "metadata": {},
   "outputs": [
    {
     "data": {
      "image/png": "[encoded data removed]",
      "text/plain": [
       "<Figure size 432x288 with 1 Axes>"
      ]
     },
     "metadata": {
      "needs_background": "light"
     },
     "output_type": "display_data"
    }
   ],
   "source": [
    "#importing data from my GitHub\n",
    "from ctypes.wintypes import HICON\n",
    "\n",
    "OBS = '/home/dev/Project_H1_line_detection/observation.txt'\n",
    "pd.set_option('display.max_columns', None) \n",
    "pd.set_option('display.max_rows', None)  \n",
    "pd.set_option('display.max_colwidth', None)\n",
    "obs = pd.read_csv(OBS)\n",
    "# print(obs)\n",
    "#-----------------------------------------------------------------------------------------------------------------\n",
    "# accessing the different columns of the csv SURVEY I made above\n",
    "obs.columns = [\"mu\",\"P\"]\n",
    "#storing values for each column into a separate arrays\n",
    "MU = np.array(obs.mu)           # Values of velocity\n",
    "P= np.array(obs.P)              # Values of temperature\n",
    "#-----------------------------------------------------------------------------------------------------------------\n",
    "v_obs = 299790*(1- (MU/HI)) - v_lsr\n",
    "T_B_interp = interp.interp1d(np.arange(T_B.size),T_B)\n",
    "T_B_stretch = T_B_interp(np.linspace(0,T_B.size-1,MU.size))\n",
    "# print(v_obs)\n",
    "plt.plot(v_obs,T_B_stretch)\n",
    "plt.show()"
   ]
  },
  {
   "cell_type": "markdown",
   "metadata": {},
   "source": [
    "##### Comparison Plot"
   ]
  },
  {
   "cell_type": "code",
   "execution_count": 22,
   "metadata": {},
   "outputs": [
    {
     "data": {
      "image/png": "[encoded data removed]",
      "text/plain": [
       "<Figure size 432x288 with 1 Axes>"
      ]
     },
     "metadata": {
      "needs_background": "light"
     },
     "output_type": "display_data"
    }
   ],
   "source": [
    "plt.plot(v_obs*(-2.5),T_B_stretch,label = \"obs\")\n",
    "plt.plot(v_LAB,T_B,label = \"LAB\")\n",
    "plt.legend()\n",
    "plt.show()"
   ]
  },
  {
   "cell_type": "markdown",
   "metadata": {},
   "source": [
    "##### Rotation Curve"
   ]
  },
  {
   "cell_type": "code",
   "execution_count": 23,
   "metadata": {},
   "outputs": [
    {
     "data": {
      "image/png": "[encoded data removed]",
      "text/plain": [
       "<Figure size 432x288 with 1 Axes>"
      ]
     },
     "metadata": {
      "needs_background": "light"
     },
     "output_type": "display_data"
    }
   ],
   "source": [
    "radius1 = np.linspace(0,9,len(v_obs))\n",
    "radius2 = np.linspace(0,9,len(v_LAB))\n",
    "plt.plot(radius1,-v_obs, label = \"OBS\")\n",
    "plt.plot(radius2,v_LAB, label = \"LAB\")\n",
    "plt.legend()\n",
    "plt.yscale('log')\n",
    "plt.show()"
   ]
  },
  {
   "cell_type": "code",
   "execution_count": 24,
   "metadata": {},
   "outputs": [],
   "source": [
    "# sigma = 5.670 * 10**8 \n",
    "# rad =np.sqrt(P/(sigma* (T_B_stretch**4))*np.pi)/10**3\n",
    "# rad = rad[~np.isnan(rad)]\n",
    "# # print(rad)\n",
    "# V_max = np.max(-v_obs)\n",
    "# R_max = np.max(rad)\n",
    "\n",
    "# # print(V_max,R_max)\n",
    "\n",
    "# def func1(R_max,V_max,n):\n",
    "#   numerator = V_max*(1200/R_max)\n",
    "#   denominator = ((1/3)+ ((2/3)*((1200/R_max)**n)))**(3/(2*n))\n",
    "#   v_rot = numerator/denominator\n",
    "#   plt.scatter(rad,v_rot)\n",
    "#   return v_rot\n",
    "\n",
    "# plt.plot(rad,v_obs)\n",
    "# plt.xlabel(\"$Radius \\longrightarrow$\")\n",
    "# plt.ylabel(\"$V_{Rot} \\longrightarrow $\")\n",
    "# # func1(R_max,V_max,)\n",
    "# # plt.legend()\n",
    "# plt.show()"
   ]
  },
  {
   "cell_type": "markdown",
   "metadata": {},
   "source": [
    "\n",
    "\n",
    "#### **LAB survey parameters** - \n",
    "The effective beamsize includes telescope beam and beam smearing due to interpolation. \n",
    "\n",
    "The beam for LAB is 36 arcmin for declinations > -27.5 deg (25m Dwingeloo telescope)\n",
    "\n",
    "                and 30 arcmin for declinations < -27.5 deg (30m Villa Elisa telescope).\n",
    "\n",
    "Due to interpolations the minimum effective FWHM beam is 40 arcmin for the LAB for declinations > -27 deg \n",
    "\n",
    "                                             and 35 arcmin for declinations < -27 deg.\n",
    "\n",
    "\n",
    "#### **Feed horn setup parameters** - \n",
    "Beamwidth is 35 degree\n",
    "\n",
    "FWHM is 35 degree\n",
    "\n",
    "Spectral resolution is 1MHz"
   ]
  },
  {
   "cell_type": "code",
   "execution_count": 25,
   "metadata": {},
   "outputs": [
    {
     "name": "stdout",
     "output_type": "stream",
     "text": [
      "LAB survey parameters - \n",
      " The effective beamsize includes telescope beam and beam smearing due to interpolation. \n",
      " The beam for LAB is 36 arcmin for declinations > -27.5 deg (25m Dwingeloo telescope) \n",
      "                 and 30 arcmin for declinations < -27.5 deg (30m Villa Elisa telescope). \n",
      " Due to interpolations the minimum effective FWHM beam is 40 arcmin for the LAB for declinations > -27 deg \n",
      "                                                      and 35 arcmin for declinations < -27 deg.\n",
      "Feed horn setup parameters - \n",
      " Beamwidth is 35 degree \n",
      " FWHM is 35 degree \n",
      " Spectral resolution is 1MHz\n"
     ]
    }
   ],
   "source": [
    "print(\"LAB survey parameters - \\n The effective beamsize includes telescope beam and beam smearing due to interpolation. \\n The beam for LAB is 36 arcmin for declinations > -27.5 deg (25m Dwingeloo telescope) \\n                 and 30 arcmin for declinations < -27.5 deg (30m Villa Elisa telescope). \\n Due to interpolations the minimum effective FWHM beam is 40 arcmin for the LAB for declinations > -27 deg \\n                                                      and 35 arcmin for declinations < -27 deg.\")\n",
    "\n",
    "print(\"Feed horn setup parameters - \\n Beamwidth is 35 degree \\n FWHM is 35 degree \\n Spectral resolution is 1MHz\")"
   ]
  }
 ],
 "metadata": {
  "kernelspec": {
   "display_name": "Python 3.10.4 64-bit",
   "language": "python",
   "name": "python3"
  },
  "language_info": {
   "codemirror_mode": {
    "name": "ipython",
    "version": 3
   },
   "file_extension": ".py",
   "mimetype": "text/x-python",
   "name": "python",
   "nbconvert_exporter": "python",
   "pygments_lexer": "ipython3",
   "version": "3.10.4"
  },
  "orig_nbformat": 4,
  "vscode": {
   "interpreter": {
    "hash": "916dbcbb3f70747c44a77c7bcd40155683ae19c65e1c03b4aa3499c5328201f1"
   }
  }
 },
 "nbformat": 4,
 "nbformat_minor": 2
}
